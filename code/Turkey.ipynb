{
 "cells": [
  {
   "cell_type": "markdown",
   "metadata": {},
   "source": [
    "# Turkey"
   ]
  },
  {
   "cell_type": "code",
   "execution_count": 1,
   "metadata": {},
   "outputs": [],
   "source": [
    "# Configure Jupyter so figures appear in the notebook\n",
    "%matplotlib inline\n",
    "\n",
    "# Configure Jupyter to display the assigned value after an assignment\n",
    "%config InteractiveShell.ast_node_interactivity='last_expr_or_assign'\n",
    "\n",
    "# import functions from the modsim.py module\n",
    "from modsim import *"
   ]
  },
  {
   "cell_type": "markdown",
   "metadata": {},
   "source": [
    "To do:\n",
    "estimate r\n",
    "figure out how to graph final sweep\n",
    "    -5 different graphs?\n",
    "    -snapshot ends?\n",
    "    -display difference between inner and outer?\n",
    "    -big table?\n",
    "    -make colors match?\n",
    "    \n",
    "IDEA: access 180F of inner of each sweep, display in table with corresponding outer\n",
    "    \n",
    "estimate/research ideal turkey temp- outside\n",
    "validation (upper bound outside of meat burning temp)\n",
    "    -look up a bunch of recipes and see if they agree\n",
    "finish computational essay\n"
   ]
  },
  {
   "cell_type": "markdown",
   "metadata": {},
   "source": [
    "## When cooking a 10 pound turkey, what is the best length of time to cook it for and best oven temperature to cook it at?"
   ]
  },
  {
   "cell_type": "markdown",
   "metadata": {},
   "source": [
    "With the upcoming Thanksgiving season, the concern of cooking the perfect turkey is on many families’ minds.\n",
    "If you cook a turkey at too high of an oven temperature, the outside cooks faster than the inside, and can cause burning or undercooking of the inside of the turkey. On the other hand, if you cook a turkey at too low an oven temperature, it takes a very long time to cook, and you do not get a good crispy outside. Also, if you cook a turkey for too little time you risk undercooking and if you cook a turkey for too long it can cause dryness and burning. It’s important to balance time and oven temperature in order to cook a good thanksgiving turkey, and so we wanted to explore the ideal factors.\n"
   ]
  },
  {
   "cell_type": "markdown",
   "metadata": {},
   "source": [
    "## Model"
   ]
  },
  {
   "cell_type": "markdown",
   "metadata": {},
   "source": [
    "We modeled the turkey as a sphere made of two layers. The spherical turkey weighed 10 lbs and has a diameter of 30 centimeters -- both determined from online turkey recipes. The outer layer of the turkey was assumed to have a thickness of 3 cm. The heat of the oven was kept constant within a single run of the simulation, and heat was modeled to be transferred via conduction between the air of the oven and the outer layer of the turkey, and between the outer and inner layers."
   ]
  },
  {
   "cell_type": "code",
   "execution_count": 2,
   "metadata": {},
   "outputs": [],
   "source": [
    "def make_system(params, T_oven, T_init, t_end):\n",
    "    \"\"\"Make a system object for the turkey model.\n",
    "    inner is inner temperature of turkey\n",
    "    outer is outer temperature of turkey\n",
    "    \n",
    "    params is the r and C values for thermal compartments\n",
    "    t_end is when the turkey is taken out of the oven\n",
    "    )\n",
    "    \n",
    "    returns: System object\n",
    "    \"\"\"\n",
    "    #initial temperatures are of the temperature of pre-heated oven\n",
    "    init = State(T_inner=T_init, T_outer=T_init)\n",
    "\n",
    "    return System(init=init, t0=0, t_end=t_end, T_oven=T_oven,\n",
    "                  params = params)"
   ]
  },
  {
   "cell_type": "markdown",
   "metadata": {},
   "source": [
    "To calculate the temperature derivative with respect to time of the outer and inner layers (dodt and didt respectively), we used the formulas\n",
    "Flux = (T_ext - T) / R\n",
    "And\n",
    "dT/dt = net flux/C\n",
    "Where R = thermal resistivity and C = thermal mass.\n",
    "\n",
    "The C value of each layer was estimated as the mass multiplied by the specific heat of turkey meat (3.53 kJ/kg\\*K)from ashrae.org's \"Thermal Properties of Foods\" and the R value was estimated so the temperature of the internal layer over time would match that of an actual turkey being cooked in this paper: http://www.greenbuildingadvisor.com/sites/default/files/Modeling%20Heat%20Transfer%20of%20Turkeys.pdf\n",
    "https://www.researchgate.net/file.PostFileLoader.html?id=57dc0df6dc332d6c7a2b0e94&assetKey=AS%3A406964417908742%401474039286881\n",
    "\n"
   ]
  },
  {
   "cell_type": "code",
   "execution_count": 9,
   "metadata": {},
   "outputs": [
    {
     "data": {
      "text/html": [
       "<div>\n",
       "<style scoped>\n",
       "    .dataframe tbody tr th:only-of-type {\n",
       "        vertical-align: middle;\n",
       "    }\n",
       "\n",
       "    .dataframe tbody tr th {\n",
       "        vertical-align: top;\n",
       "    }\n",
       "\n",
       "    .dataframe thead th {\n",
       "        text-align: right;\n",
       "    }\n",
       "</style>\n",
       "<table border=\"1\" class=\"dataframe\">\n",
       "  <thead>\n",
       "    <tr style=\"text-align: right;\">\n",
       "      <th></th>\n",
       "      <th>values</th>\n",
       "    </tr>\n",
       "  </thead>\n",
       "  <tbody>\n",
       "    <tr>\n",
       "      <th>r_outer</th>\n",
       "      <td>0.006</td>\n",
       "    </tr>\n",
       "    <tr>\n",
       "      <th>r_inner</th>\n",
       "      <td>0.006</td>\n",
       "    </tr>\n",
       "    <tr>\n",
       "      <th>c_inner</th>\n",
       "      <td>10450.000</td>\n",
       "    </tr>\n",
       "    <tr>\n",
       "      <th>c_outer</th>\n",
       "      <td>5330.000</td>\n",
       "    </tr>\n",
       "  </tbody>\n",
       "</table>\n",
       "</div>"
      ],
      "text/plain": [
       "r_outer        0.006\n",
       "r_inner        0.006\n",
       "c_inner    10450.000\n",
       "c_outer     5330.000\n",
       "dtype: float64"
      ]
     },
     "execution_count": 9,
     "metadata": {},
     "output_type": "execute_result"
    }
   ],
   "source": [
    "params = Params(\n",
    "    r_outer = 0.006, #Km^2/W\n",
    "    r_inner = 0.006, #Km^2/W\n",
    "    c_inner = 10450, #J/K\n",
    "    c_outer = 5330, #J/K\n",
    "    )"
   ]
  },
  {
   "cell_type": "code",
   "execution_count": 4,
   "metadata": {},
   "outputs": [],
   "source": [
    "def slope_func(state, t, system):\n",
    "    \"\"\"Makes the differential equations.\n",
    "    \n",
    "    state: State (t_inner, t_outer)\n",
    "    t: time\n",
    "    system: System object\n",
    "    \n",
    "    returns: didt, dodt\n",
    "    \"\"\"\n",
    "    \n",
    "    unpack(system)\n",
    "    r_outer, r_inner, c_inner, c_outer = params\n",
    "    T_inner, T_outer = state\n",
    "    \n",
    "    o_flux = (T_oven-T_outer)/r_outer\n",
    "    i_flux = (T_outer-T_inner)/r_inner\n",
    "    \n",
    "    dodt = (o_flux-i_flux)/c_outer\n",
    "    \n",
    "    #compute inner temperature change\n",
    "    didt = i_flux/c_inner\n",
    "    \n",
    "    return didt, dodt"
   ]
  },
  {
   "cell_type": "markdown",
   "metadata": {},
   "source": [
    "Talk about sweeping and stuff (can we put the sweep after our initial verfication graph?)."
   ]
  },
  {
   "cell_type": "code",
   "execution_count": 5,
   "metadata": {},
   "outputs": [],
   "source": [
    "def sweep_temp(slope_func, min_temp, max_temp, time):\n",
    "    '''Sweep oven temperature\n",
    "    \n",
    "    min_temp: lowest temperature \n",
    "    max_temp: highest temperature\n",
    "    \n",
    "    Returns: Sweepseries\n",
    "    '''\n",
    "    \n",
    "    temp_array = linspace(min_temp, max_temp, 5)\n",
    "    sweep = SweepSeries()\n",
    "    \n",
    "    colors = ['red','orange','yellow','green','blue','purple']\n",
    "    color_counter = 0\n",
    "    \n",
    "    for temp in temp_array:\n",
    "        system=make_system(params,temp,275,time) #make_system(params, T_oven, T_init, t_end)\n",
    "        results, details = run_ode_solver(system,slope_func,max_step=1)\n",
    "        plot_results(results.T_inner, results.T_outer, colors[color_counter])\n",
    "        color_counter += 1\n",
    "        sweep[temp] = results\n",
    "    \n",
    "    return sweep"
   ]
  },
  {
   "cell_type": "markdown",
   "metadata": {},
   "source": [
    "## Results"
   ]
  },
  {
   "cell_type": "markdown",
   "metadata": {},
   "source": [
    "Talk about results and stuff."
   ]
  },
  {
   "cell_type": "markdown",
   "metadata": {},
   "source": [
    "To calibrate the r values and verify that the curve for turkey cooking is correct, the inner and outer temperatures of the turkey are plotted and compared to the values from the [article or recipe]. Once the temperatures are verified on a graph, a sweepseries of oven temperatures is made. The sweepseries is used to make a table (or graph?) of the oven temperature and the coresponding inner temperature and outer temperature of the turkey at given times. "
   ]
  },
  {
   "cell_type": "markdown",
   "metadata": {},
   "source": [
    "The functions convert_k_to_f and plot_results are made to assist in plot clarity. convert_k_to_f converts the kelvin temperatures from calculations into farenheit for plotting."
   ]
  },
  {
   "cell_type": "code",
   "execution_count": 6,
   "metadata": {},
   "outputs": [],
   "source": [
    "def convert_k_to_f(k):\n",
    "    return (k-273)*(9/5) + 32"
   ]
  },
  {
   "cell_type": "code",
   "execution_count": 10,
   "metadata": {},
   "outputs": [],
   "source": [
    "def plot_results(inner, outer, color):\n",
    "    \"\"\"Plot the inner and outer temperatures of the Turkey\n",
    "    \n",
    "    inner: TimeSeries\n",
    "    outer: TimeSeries\n",
    "    \n",
    "    \"\"\"\n",
    "    inner_f=convert_k_to_f(inner)\n",
    "    outer_f=convert_k_to_f(outer)\n",
    "    plot(inner_f, '-', color = color)\n",
    "    plot(outer_f, '-', color = color)\n",
    "    \n",
    "    decorate(xlabel='Minutes',\n",
    "             ylabel='Temperature')"
   ]
  },
  {
   "cell_type": "markdown",
   "metadata": {},
   "source": [
    "### Verification"
   ]
  },
  {
   "cell_type": "code",
   "execution_count": 11,
   "metadata": {},
   "outputs": [
    {
     "data": {
      "image/png": "[encoded data removed]",
      "text/plain": [
       "<Figure size 432x288 with 1 Axes>"
      ]
     },
     "metadata": {
      "needs_background": "light"
     },
     "output_type": "display_data"
    }
   ],
   "source": [
    "system = make_system(params,450,275,500)\n",
    "results, details = run_ode_solver(system,slope_func,max_step=1)\n",
    "plot_results(results.T_inner, results.T_outer, 'red')"
   ]
  },
  {
   "cell_type": "markdown",
   "metadata": {},
   "source": [
    "The inner temperature of the turkey is _ degrees farenheit at _ minutes, matching up with the values from this recipe []."
   ]
  },
  {
   "cell_type": "markdown",
   "metadata": {},
   "source": [
    "### Sweep"
   ]
  },
  {
   "cell_type": "code",
   "execution_count": 12,
   "metadata": {},
   "outputs": [
    {
     "data": {
      "text/html": [
       "<div>\n",
       "<style scoped>\n",
       "    .dataframe tbody tr th:only-of-type {\n",
       "        vertical-align: middle;\n",
       "    }\n",
       "\n",
       "    .dataframe tbody tr th {\n",
       "        vertical-align: top;\n",
       "    }\n",
       "\n",
       "    .dataframe thead th {\n",
       "        text-align: right;\n",
       "    }\n",
       "</style>\n",
       "<table border=\"1\" class=\"dataframe\">\n",
       "  <thead>\n",
       "    <tr style=\"text-align: right;\">\n",
       "      <th></th>\n",
       "      <th>values</th>\n",
       "    </tr>\n",
       "  </thead>\n",
       "  <tbody>\n",
       "    <tr>\n",
       "      <th>394.0</th>\n",
       "      <td>T_inner     T_outer\n",
       "0.000000   ...</td>\n",
       "    </tr>\n",
       "    <tr>\n",
       "      <th>420.5</th>\n",
       "      <td>T_inner     T_outer\n",
       "0.000000   ...</td>\n",
       "    </tr>\n",
       "    <tr>\n",
       "      <th>447.0</th>\n",
       "      <td>T_inner     T_outer\n",
       "0.000000   ...</td>\n",
       "    </tr>\n",
       "    <tr>\n",
       "      <th>473.5</th>\n",
       "      <td>T_inner     T_outer\n",
       "0.000000   ...</td>\n",
       "    </tr>\n",
       "    <tr>\n",
       "      <th>500.0</th>\n",
       "      <td>T_inner     T_outer\n",
       "0.000000   ...</td>\n",
       "    </tr>\n",
       "  </tbody>\n",
       "</table>\n",
       "</div>"
      ],
      "text/plain": [
       "394.0                   T_inner     T_outer\n",
       "0.000000   ...\n",
       "420.5                   T_inner     T_outer\n",
       "0.000000   ...\n",
       "447.0                   T_inner     T_outer\n",
       "0.000000   ...\n",
       "473.5                   T_inner     T_outer\n",
       "0.000000   ...\n",
       "500.0                   T_inner     T_outer\n",
       "0.000000   ...\n",
       "dtype: object"
      ]
     },
     "execution_count": 12,
     "metadata": {},
     "output_type": "execute_result"
    },
    {
     "data": {
      "image/png": "[encoded data removed]",
      "text/plain": [
       "<Figure size 432x288 with 1 Axes>"
      ]
     },
     "metadata": {
      "needs_background": "light"
     },
     "output_type": "display_data"
    }
   ],
   "source": [
    "sweep = sweep_temp(slope_func, 394, 500, 400)"
   ]
  },
  {
   "cell_type": "markdown",
   "metadata": {},
   "source": [
    "## Validation"
   ]
  },
  {
   "cell_type": "code",
   "execution_count": null,
   "metadata": {},
   "outputs": [],
   "source": [
    "frame = DataFrame\n",
    "frame.index = [1,4,5]\n",
    "frame.index"
   ]
  },
  {
   "cell_type": "code",
   "execution_count": null,
   "metadata": {},
   "outputs": [],
   "source": []
  },
  {
   "cell_type": "markdown",
   "metadata": {},
   "source": [
    "### From thermal properities of food pdf (in google doc): \n",
    "Turkey specific heat above freezing 3.53 kJ/(kg·K)\n",
    "Turkey, breast 0.496 W/(m·K) thermal conductivity at 3 degrees C"
   ]
  },
  {
   "cell_type": "markdown",
   "metadata": {},
   "source": [
    "### From turkey cooking article:\n",
    "http://www.greenbuildingadvisor.com/sites/default/files/Modeling%20Heat%20Transfer%20of%20Turkeys.pdf data from turkey\n",
    " 118°C oven temp, with the oven at room temperature starting their experiment\n",
    " thermal conductivity 0.461 W/m K\n",
    " surface heat transfer coefficient of 19.252 W/m2K"
   ]
  }
 ],
 "metadata": {
  "kernelspec": {
   "display_name": "Python 3",
   "language": "python",
   "name": "python3"
  },
  "language_info": {
   "codemirror_mode": {
    "name": "ipython",
    "version": 3
   },
   "file_extension": ".py",
   "mimetype": "text/x-python",
   "name": "python",
   "nbconvert_exporter": "python",
   "pygments_lexer": "ipython3",
   "version": "3.6.6"
  }
 },
 "nbformat": 4,
 "nbformat_minor": 2
}
