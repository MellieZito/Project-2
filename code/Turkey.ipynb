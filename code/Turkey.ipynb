{
 "cells": [
  {
   "cell_type": "markdown",
   "metadata": {},
   "source": [
    "# Turkey"
   ]
  },
  {
   "cell_type": "code",
   "execution_count": 243,
   "metadata": {},
   "outputs": [],
   "source": [
    "# Configure Jupyter so figures appear in the notebook\n",
    "%matplotlib inline\n",
    "\n",
    "# Configure Jupyter to display the assigned value after an assignment\n",
    "%config InteractiveShell.ast_node_interactivity='last_expr_or_assign'\n",
    "\n",
    "# import functions from the modsim.py module\n",
    "from modsim import *\n",
    "\n",
    "import numpy as np\n",
    "import math\n",
    "import pandas as pd\n",
    "\n",
    "from IPython.display import Image"
   ]
  },
  {
   "cell_type": "markdown",
   "metadata": {},
   "source": [
    "To do:\n",
    "    \n",
    "estimate/research ideal turkey temp- outside (upper bound outside of meat burning temp: https://modernistcuisine.com/2013/03/the-maillard-reaction/)\n",
    "\n",
    "work on r values and fine tune, see if we can ground them in anything more real world\n",
    "\n",
    "finish computational essay\n",
    "   - write interpretation\n",
    "   - make separate \"synthesis\" and \"results\" sections?\n",
    "   - fix up comments \n",
    "   - add in assumptions like that a turkey's thigh temp would correspond to inner turkey temp\n",
    "   - talk about kelvin and farenheit"
   ]
  },
  {
   "cell_type": "markdown",
   "metadata": {},
   "source": [
    "## Question"
   ]
  },
  {
   "cell_type": "markdown",
   "metadata": {},
   "source": [
    "### When cooking a 15 pound turkey, what is the best length of time to cook it for and best oven temperature to cook it at?"
   ]
  },
  {
   "cell_type": "markdown",
   "metadata": {},
   "source": [
    "With the upcoming Thanksgiving season, the concern of cooking the perfect turkey is on many families’ minds.\n",
    "If you cook a turkey at too high of an oven temperature, the outside cooks faster than the inside, and can cause burning or undercooking of the inside of the turkey. On the other hand, if you cook a turkey at too low an oven temperature, it takes a very long time to cook, and you do not get a good crispy outside. Also, if you cook a turkey for too little time you risk undercooking and if you cook a turkey for too long it can cause dryness and burning. It’s important to balance time and oven temperature in order to cook a good thanksgiving turkey, and so we wanted to explore the ideal factors.\n"
   ]
  },
  {
   "cell_type": "markdown",
   "metadata": {},
   "source": [
    "## Model"
   ]
  },
  {
   "cell_type": "markdown",
   "metadata": {},
   "source": [
    "We modeled the turkey as a sphere made of two layers. The spherical turkey weighed 15 lbs and has a diameter of 34 centimeters -- both determined from the pan size listed in this turkey recipe: [https://blog.metrokitchen.com/roasting-pan-guide/]. The outer layer of the turkey was assumed to have a thickness of 2 cm. The heat of the oven was kept constant within a single run of the simulation, and heat was modeled to be transferred via conduction between the air of the oven and the outer layer of the turkey, and between the outer and inner layers."
   ]
  },
  {
   "cell_type": "code",
   "execution_count": 244,
   "metadata": {},
   "outputs": [],
   "source": [
    "def make_system(params, T_oven, T_init, t_end):\n",
    "    \"\"\"Make a system object for the turkey model.\n",
    "    inner is inner temperature of turkey\n",
    "    outer is outer temperature of turkey\n",
    "    \n",
    "    params is the r and C values for thermal compartments\n",
    "    t_end is when the turkey is taken out of the oven\n",
    "    )\n",
    "    \n",
    "    returns: System object\n",
    "    \"\"\"\n",
    "    #initial temperatures are of the temperature of pre-heated oven\n",
    "    init = State(T_inner=T_init, T_outer=T_init)\n",
    "\n",
    "    return System(init=init, t0=0, t_end=t_end, T_oven=T_oven,\n",
    "                  params = params)"
   ]
  },
  {
   "cell_type": "markdown",
   "metadata": {},
   "source": [
    "The C value of each layer was estimated as the mass multiplied by the specific heat of turkey meat (3.53 kJ/kg\\*K)from ashrae.org's \"Thermal Properties of Foods\" and the R values were assumed to be the same and were estimated so the temperature of the internal layer over time would match that of an actual turkey being cooked in this paper: http://www.greenbuildingadvisor.com/sites/default/files/Modeling%20Heat%20Transfer%20of%20Turkeys.pdf\n",
    "https://www.researchgate.net/file.PostFileLoader.html?id=57dc0df6dc332d6c7a2b0e94&assetKey=AS%3A406964417908742%401474039286881"
   ]
  },
  {
   "cell_type": "code",
   "execution_count": 245,
   "metadata": {},
   "outputs": [],
   "source": [
    "params = Params(\n",
    "    r_inner = 0.0015, #Km^2/W\n",
    "    r_outer = 0.012, #Km^2/W\n",
    "    c_inner = 16490, #J/K\n",
    "    c_outer = 7520); #J/K\n",
    "#attempting to do two different r values\n",
    "#.0058 when r's match\n",
    "'''params = Params(\n",
    "    r_outer = 0.006, #Km^2/W\n",
    "    r_inner = 0.006, #Km^2/W\n",
    "    c_inner = 10450, #J/K\n",
    "    c_outer = 5330, #J/K\n",
    "    )''';"
   ]
  },
  {
   "cell_type": "markdown",
   "metadata": {},
   "source": [
    "The functions convert_k_to_f to assist in plot clarity. convert_k_to_f converts the kelvin temperatures from calculations into farenheit for plotting."
   ]
  },
  {
   "cell_type": "code",
   "execution_count": 246,
   "metadata": {},
   "outputs": [],
   "source": [
    "def convert_k_to_f(k):\n",
    "    return (k-273)*(9/5) + 32"
   ]
  },
  {
   "cell_type": "markdown",
   "metadata": {},
   "source": [
    "To calculate the temperature derivative with respect to time of the outer and inner layers (dodt and didt respectively), we used the formulas\n",
    "Flux = (T_ext - T) / R\n",
    "And\n",
    "dT/dt = net flux/C\n",
    "Where R = thermal resistivity and C = thermal mass."
   ]
  },
  {
   "cell_type": "code",
   "execution_count": 247,
   "metadata": {},
   "outputs": [],
   "source": [
    "def slope_func(state, t, system):\n",
    "    \"\"\"Makes the differential equations.\n",
    "    \n",
    "    state: State (t_inner, t_outer)\n",
    "    t: time\n",
    "    system: System object\n",
    "    \n",
    "    returns: didt, dodt\n",
    "    \"\"\"\n",
    "    \n",
    "    unpack(system)\n",
    "    r_outer, r_inner, c_inner, c_outer = params\n",
    "    T_inner, T_outer = state\n",
    "    \n",
    "    o_flux = (T_oven-T_outer)/r_outer\n",
    "    i_flux = (T_outer-T_inner)/r_inner\n",
    "    \n",
    "    dodt = (o_flux-i_flux)/c_outer\n",
    "    \n",
    "    #compute inner temperature change\n",
    "    didt = i_flux/c_inner\n",
    "    \n",
    "    return didt, dodt"
   ]
  },
  {
   "cell_type": "markdown",
   "metadata": {},
   "source": [
    "Plot results is created to aid in plotting our model's inner and outer turkey temperature and data from an article (for validation)."
   ]
  },
  {
   "cell_type": "code",
   "execution_count": 248,
   "metadata": {},
   "outputs": [],
   "source": [
    "def plot_results_validation(inner, outer, validation):\n",
    "    \"\"\"Plot the inner and outer temperatures of the Turkey\n",
    "    to compare to the validation curve\n",
    "    \n",
    "    inner: TimeSeries\n",
    "    outer: TimeSeries\n",
    "    validation: TimeSeries\n",
    "    \n",
    "    \"\"\"\n",
    "    inner_f=convert_k_to_f(inner)\n",
    "    outer_f=convert_k_to_f(outer)\n",
    "    validation_f=convert_k_to_f(validation)\n",
    "    plot(inner_f, '-', label='Inner Temperature')\n",
    "    plot(outer_f, '-', label='Outer Temperature')\n",
    "    plot(validation_f, '-', label='Validation')\n",
    "    \n",
    "    decorate(xlabel='Minutes',\n",
    "             ylabel='Temperature (Degrees F)',\n",
    "             title = 'Cooking Time of a Turkey')"
   ]
  },
  {
   "cell_type": "markdown",
   "metadata": {},
   "source": [
    "### Validation"
   ]
  },
  {
   "cell_type": "markdown",
   "metadata": {},
   "source": [
    "To calibrate the r values and verify that the curve for turkey cooking is correct, the inner temperatures of the turkey over time are plotted and compared to the shape of the curve from this article: [http://www.greenbuildingadvisor.com/sites/default/files/Modeling%20Heat%20Transfer%20of%20Turkeys.pdf] and the final temperature inner temp at 3hrs 20 mins when the turkey should be cooked is compared to that of this recipe: [https://www.allrecipes.com/recipe/166160/juicy-thanksgiving-turkey/ ]."
   ]
  },
  {
   "cell_type": "markdown",
   "metadata": {},
   "source": [
    "The plot below is from the article. Its data points were translated over manually to a TimeSeries to then be plotted as validation."
   ]
  },
  {
   "cell_type": "code",
   "execution_count": 249,
   "metadata": {},
   "outputs": [
    {
     "data": {
      "image/png": "[encoded data removed]",
      "text/plain": [
       "<IPython.core.display.Image object>"
      ]
     },
     "execution_count": 249,
     "metadata": {},
     "output_type": "execute_result"
    }
   ],
   "source": [
    "Image(\"images/turkey_temp_graph.png\")"
   ]
  },
  {
   "cell_type": "markdown",
   "metadata": {},
   "source": [
    "#### Legend: \n",
    "\n",
    "#### circle = thigh of 6.8kg calculated values from artile (best fit line matches to this)\n",
    "\n",
    "#### hexagon = thigh of 7.1kg fresh turkey "
   ]
  },
  {
   "cell_type": "markdown",
   "metadata": {},
   "source": [
    "6.8kg is 15 pounds (the weight of our model's turkey). The graph from the article shows the curve for the inner temperature of a turkey (thigh in this case)."
   ]
  },
  {
   "cell_type": "markdown",
   "metadata": {},
   "source": [
    "The data points were found and written down manually into a TimeSeries, and then plotted as an individual graph to make sure it was an accurate representation of the article data."
   ]
  },
  {
   "cell_type": "code",
   "execution_count": 250,
   "metadata": {},
   "outputs": [
    {
     "data": {
      "text/html": [
       "<div>\n",
       "<style scoped>\n",
       "    .dataframe tbody tr th:only-of-type {\n",
       "        vertical-align: middle;\n",
       "    }\n",
       "\n",
       "    .dataframe tbody tr th {\n",
       "        vertical-align: top;\n",
       "    }\n",
       "\n",
       "    .dataframe thead th {\n",
       "        text-align: right;\n",
       "    }\n",
       "</style>\n",
       "<table border=\"1\" class=\"dataframe\">\n",
       "  <thead>\n",
       "    <tr style=\"text-align: right;\">\n",
       "      <th></th>\n",
       "      <th>values</th>\n",
       "    </tr>\n",
       "  </thead>\n",
       "  <tbody>\n",
       "    <tr>\n",
       "      <th>10</th>\n",
       "      <td>1</td>\n",
       "    </tr>\n",
       "    <tr>\n",
       "      <th>20</th>\n",
       "      <td>5</td>\n",
       "    </tr>\n",
       "    <tr>\n",
       "      <th>40</th>\n",
       "      <td>20</td>\n",
       "    </tr>\n",
       "    <tr>\n",
       "      <th>60</th>\n",
       "      <td>40</td>\n",
       "    </tr>\n",
       "    <tr>\n",
       "      <th>80</th>\n",
       "      <td>55</td>\n",
       "    </tr>\n",
       "    <tr>\n",
       "      <th>90</th>\n",
       "      <td>63</td>\n",
       "    </tr>\n",
       "    <tr>\n",
       "      <th>95</th>\n",
       "      <td>66</td>\n",
       "    </tr>\n",
       "    <tr>\n",
       "      <th>100</th>\n",
       "      <td>68</td>\n",
       "    </tr>\n",
       "    <tr>\n",
       "      <th>120</th>\n",
       "      <td>75</td>\n",
       "    </tr>\n",
       "    <tr>\n",
       "      <th>140</th>\n",
       "      <td>80</td>\n",
       "    </tr>\n",
       "    <tr>\n",
       "      <th>160</th>\n",
       "      <td>85</td>\n",
       "    </tr>\n",
       "  </tbody>\n",
       "</table>\n",
       "</div>"
      ],
      "text/plain": [
       "10      1\n",
       "20      5\n",
       "40     20\n",
       "60     40\n",
       "80     55\n",
       "90     63\n",
       "95     66\n",
       "100    68\n",
       "120    75\n",
       "140    80\n",
       "160    85\n",
       "dtype: int64"
      ]
     },
     "execution_count": 250,
     "metadata": {},
     "output_type": "execute_result"
    }
   ],
   "source": [
    "t_validation = [10, 20, 40, 60, 80, 90, 95, 100, 120, 140, 160] #minutes\n",
    "inner_T_valid_C = [1, 5, 20, 40, 55, 63, 66, 68, 75, 80, 85] #degrees celcius\n",
    "data_validation_C = TimeSeries(inner_T_valid_C,t_validation)"
   ]
  },
  {
   "cell_type": "code",
   "execution_count": 251,
   "metadata": {
    "scrolled": true
   },
   "outputs": [
    {
     "data": {
      "image/png": "[encoded data removed]",
      "text/plain": [
       "<Figure size 432x288 with 1 Axes>"
      ]
     },
     "metadata": {},
     "output_type": "display_data"
    }
   ],
   "source": [
    "plot(data_validation_C)\n",
    "decorate(xlabel='Minutes',\n",
    "        ylabel='Temperature (Degrees C)',\n",
    "        title = 'Article\\'s 6.8kg Turkey Thigh Cooking Time')"
   ]
  },
  {
   "cell_type": "markdown",
   "metadata": {},
   "source": [
    "Since the article data was in celcius, the temperature was converted to kelvin to match with the units of our model temperatures."
   ]
  },
  {
   "cell_type": "code",
   "execution_count": 252,
   "metadata": {},
   "outputs": [
    {
     "data": {
      "text/html": [
       "<div>\n",
       "<style scoped>\n",
       "    .dataframe tbody tr th:only-of-type {\n",
       "        vertical-align: middle;\n",
       "    }\n",
       "\n",
       "    .dataframe tbody tr th {\n",
       "        vertical-align: top;\n",
       "    }\n",
       "\n",
       "    .dataframe thead th {\n",
       "        text-align: right;\n",
       "    }\n",
       "</style>\n",
       "<table border=\"1\" class=\"dataframe\">\n",
       "  <thead>\n",
       "    <tr style=\"text-align: right;\">\n",
       "      <th></th>\n",
       "      <th>values</th>\n",
       "    </tr>\n",
       "  </thead>\n",
       "  <tbody>\n",
       "    <tr>\n",
       "      <th>10</th>\n",
       "      <td>274</td>\n",
       "    </tr>\n",
       "    <tr>\n",
       "      <th>20</th>\n",
       "      <td>278</td>\n",
       "    </tr>\n",
       "    <tr>\n",
       "      <th>40</th>\n",
       "      <td>293</td>\n",
       "    </tr>\n",
       "    <tr>\n",
       "      <th>60</th>\n",
       "      <td>313</td>\n",
       "    </tr>\n",
       "    <tr>\n",
       "      <th>80</th>\n",
       "      <td>328</td>\n",
       "    </tr>\n",
       "    <tr>\n",
       "      <th>90</th>\n",
       "      <td>336</td>\n",
       "    </tr>\n",
       "    <tr>\n",
       "      <th>95</th>\n",
       "      <td>339</td>\n",
       "    </tr>\n",
       "    <tr>\n",
       "      <th>100</th>\n",
       "      <td>341</td>\n",
       "    </tr>\n",
       "    <tr>\n",
       "      <th>120</th>\n",
       "      <td>348</td>\n",
       "    </tr>\n",
       "    <tr>\n",
       "      <th>140</th>\n",
       "      <td>353</td>\n",
       "    </tr>\n",
       "    <tr>\n",
       "      <th>160</th>\n",
       "      <td>358</td>\n",
       "    </tr>\n",
       "  </tbody>\n",
       "</table>\n",
       "</div>"
      ],
      "text/plain": [
       "10     274\n",
       "20     278\n",
       "40     293\n",
       "60     313\n",
       "80     328\n",
       "90     336\n",
       "95     339\n",
       "100    341\n",
       "120    348\n",
       "140    353\n",
       "160    358\n",
       "dtype: int64"
      ]
     },
     "execution_count": 252,
     "metadata": {},
     "output_type": "execute_result"
    }
   ],
   "source": [
    "inner_T_validation = []\n",
    "for temp in inner_T_valid_C:\n",
    "    temp_k = temp + 273\n",
    "    inner_T_validation.append(temp_k)\n",
    "data_validation = TimeSeries(inner_T_validation,t_validation)"
   ]
  },
  {
   "cell_type": "markdown",
   "metadata": {},
   "source": [
    "The validation curve is then plotted with the model temperatures. The model temperatures are calculated using the params, make_system, and slope_func (shown above) and the ode_solver below."
   ]
  },
  {
   "cell_type": "code",
   "execution_count": 253,
   "metadata": {
    "scrolled": false
   },
   "outputs": [
    {
     "data": {
      "image/png": "[encoded data removed]",
      "text/plain": [
       "<Figure size 432x288 with 1 Axes>"
      ]
     },
     "metadata": {},
     "output_type": "display_data"
    }
   ],
   "source": [
    "system = make_system(params,450,275,500)\n",
    "results, details = run_ode_solver(system,slope_func,max_step=1)\n",
    "plot_results_validation(results.T_inner, results.T_outer, data_validation)#got rid of outer temporarily\n",
    "#plot(results.T_inner) \n",
    "#plotting the results before converting has a different slope. \n",
    "#i guess this makes sense but are we okay with that"
   ]
  },
  {
   "cell_type": "markdown",
   "metadata": {},
   "source": [
    "Then, for additional verification and to fine tune the r values, the recipe values were compared to our model's values. The recipe for a 15 pound turkey has the inner temperature of the turkey at 180 degrees farenheit when it is removed from the oven after 200 minutes (3 hrs 20 mins). For our verification plot, the inner temperature of the turkey is 180 degrees farenheit at 200 minutes."
   ]
  },
  {
   "cell_type": "markdown",
   "metadata": {},
   "source": [
    "### Sweep"
   ]
  },
  {
   "cell_type": "markdown",
   "metadata": {},
   "source": [
    "Once the temperatures are verified on a graph, a sweepseries of oven temperatures is made. The sweepseries is used to make a graph of the oven temperature and the corresponding inner temperature and outer temperature of the turkey at given times."
   ]
  },
  {
   "cell_type": "code",
   "execution_count": 279,
   "metadata": {},
   "outputs": [],
   "source": [
    "def sweep_temp(slope_func, min_temp, max_temp, time, num_runs):\n",
    "    '''Sweep oven temperature\n",
    "    \n",
    "    min_temp: lowest temperature \n",
    "    max_temp: highest temperature \n",
    "    \n",
    "    Returns: Sweepseries\n",
    "    '''\n",
    "    \n",
    "    temp_array = linspace(min_temp, max_temp, num_runs)\n",
    "    sweep = SweepSeries()\n",
    "    \n",
    "    colors = ['red','orange','yellow','green','blue','purple']\n",
    "    color_counter = 0\n",
    "    \n",
    "    for temp in temp_array:\n",
    "        system=make_system(params,temp,275,time) #make_system(params, T_oven, T_init, t_end)\n",
    "        results, details = run_ode_solver(system,slope_func,max_step=1)\n",
    "        plot_results(results.T_inner, results.T_outer, colors[color_counter])\n",
    "        color_counter += 1\n",
    "        if color_counter == 6:\n",
    "           color_counter = 0 \n",
    "        sweep[temp] = results\n",
    "    \n",
    "    return sweep"
   ]
  },
  {
   "cell_type": "markdown",
   "metadata": {},
   "source": [
    "## Results"
   ]
  },
  {
   "cell_type": "markdown",
   "metadata": {},
   "source": [
    "Talk about results and stuff."
   ]
  },
  {
   "cell_type": "code",
   "execution_count": 255,
   "metadata": {},
   "outputs": [],
   "source": [
    "def plot_results(inner, outer, color):\n",
    "    \"\"\"Plot the inner and outer temperatures of the Turkey\n",
    "    \n",
    "    inner: TimeSeries\n",
    "    outer: TimeSeries\n",
    "    \n",
    "    \"\"\"\n",
    "    inner_f=convert_k_to_f(inner)\n",
    "    outer_f=convert_k_to_f(outer)\n",
    "    plot(inner_f, '-', color = color)\n",
    "    plot(outer_f, '-', color = color)\n",
    "    \n",
    "    decorate(xlabel='Minutes',\n",
    "             ylabel='Temperature')"
   ]
  },
  {
   "cell_type": "code",
   "execution_count": null,
   "metadata": {},
   "outputs": [],
   "source": [
    "readable_sweep = sweep_temp(slope_func, 394, 500, 400, 4);"
   ]
  },
  {
   "cell_type": "code",
   "execution_count": 268,
   "metadata": {},
   "outputs": [
    {
     "data": {
      "image/png": "[encoded data removed]",
      "text/plain": [
       "<Figure size 432x288 with 1 Axes>"
      ]
     },
     "metadata": {},
     "output_type": "display_data"
    }
   ],
   "source": [
    "detailed_sweep = sweep_temp(slope_func, 394, 500, 400, 15);"
   ]
  },
  {
   "cell_type": "code",
   "execution_count": 264,
   "metadata": {},
   "outputs": [],
   "source": [
    "def get_min(my_list):\n",
    "    my_min = np.inf\n",
    "    for item in my_list:\n",
    "        if item < my_min:\n",
    "            my_min = item\n",
    "    return my_min"
   ]
  },
  {
   "cell_type": "code",
   "execution_count": 277,
   "metadata": {},
   "outputs": [],
   "source": [
    "def make_results_table(sweep, target_temp_k):\n",
    "    \n",
    "    '''Determine temperature of outer layer while inner layer \n",
    "       is at target temp for each oven temperature in sweep\n",
    "    \n",
    "    sweep: SweepSeries containing inner and outer layer temperatures where index is oven temperatures\n",
    "    target_temp: desired temperature of inner layer, in kelvin\n",
    "    \n",
    "    Returns: DataFrame containing corresponding oven temperatures, inner temperatures (close\n",
    "    to target temperature, and outer temperatures IN FARENHEIT'''\n",
    "    \n",
    "    #initialize temperature lists to be displayed in dataframe\n",
    "    inner_list = pd.Series([])\n",
    "    outer_list = pd.Series([])\n",
    "    index_list = pd.Series([])\n",
    "    \n",
    "    #make list of pairings with 180\n",
    "    for oven_temp in sweep.index:\n",
    "        #get inner temp closest to 180\n",
    "        off_from_180_list=[]\n",
    "        for temp in sweep[oven_temp].T_inner:\n",
    "            off_from_180 = abs(target_temp_k - temp)\n",
    "            if off_from_180 < 1:\n",
    "                closest_temp = temp\n",
    "                break\n",
    "        \n",
    "        #determine corresponding outer temp to ~180 inner temp\n",
    "        for index in sweep[oven_temp].T_inner.index:\n",
    "            if sweep[oven_temp].T_inner[index] == closest_temp:\n",
    "                corresp_index = index\n",
    "        corresp_outer = sweep[oven_temp].T_outer[corresp_index]\n",
    "        \n",
    "        #add found temperatures to lists\n",
    "        inner_list = inner_list.append(pd.Series([closest_temp]))\n",
    "        outer_list = outer_list.append(pd.Series([corresp_outer]))\n",
    "        index_list = index_list.append(pd.Series([corresp_index]))\n",
    "        \n",
    "    #convert inner and outer temperature matches to f and compile into dataframe\n",
    "    table_final = pd.DataFrame({'Oven Temperature (F)':convert_k_to_f(sweep.index),\n",
    "                                'Time (min)':index_list,\n",
    "                                'Inner Temperature (F)':convert_k_to_f(inner_list), \n",
    "                                'Outer Temperature (F)':convert_k_to_f(outer_list)})\n",
    "    \n",
    "    return table_final"
   ]
  },
  {
   "cell_type": "code",
   "execution_count": 278,
   "metadata": {},
   "outputs": [
    {
     "data": {
      "text/html": [
       "<div>\n",
       "<style scoped>\n",
       "    .dataframe tbody tr th:only-of-type {\n",
       "        vertical-align: middle;\n",
       "    }\n",
       "\n",
       "    .dataframe tbody tr th {\n",
       "        vertical-align: top;\n",
       "    }\n",
       "\n",
       "    .dataframe thead th {\n",
       "        text-align: right;\n",
       "    }\n",
       "</style>\n",
       "<table border=\"1\" class=\"dataframe\">\n",
       "  <thead>\n",
       "    <tr style=\"text-align: right;\">\n",
       "      <th></th>\n",
       "      <th>Oven Temperature (F)</th>\n",
       "      <th>Time (min)</th>\n",
       "      <th>Inner Temperature (F)</th>\n",
       "      <th>Outer Temperature (F)</th>\n",
       "    </tr>\n",
       "  </thead>\n",
       "  <tbody>\n",
       "    <tr>\n",
       "      <th>0</th>\n",
       "      <td>249.800000</td>\n",
       "      <td>255.205742</td>\n",
       "      <td>178.080469</td>\n",
       "      <td>241.457621</td>\n",
       "    </tr>\n",
       "    <tr>\n",
       "      <th>0</th>\n",
       "      <td>263.428571</td>\n",
       "      <td>230.203219</td>\n",
       "      <td>178.134822</td>\n",
       "      <td>253.507246</td>\n",
       "    </tr>\n",
       "    <tr>\n",
       "      <th>0</th>\n",
       "      <td>277.057143</td>\n",
       "      <td>210.200871</td>\n",
       "      <td>178.214910</td>\n",
       "      <td>265.559865</td>\n",
       "    </tr>\n",
       "    <tr>\n",
       "      <th>0</th>\n",
       "      <td>290.685714</td>\n",
       "      <td>193.198678</td>\n",
       "      <td>178.027344</td>\n",
       "      <td>277.581349</td>\n",
       "    </tr>\n",
       "    <tr>\n",
       "      <th>0</th>\n",
       "      <td>304.314286</td>\n",
       "      <td>179.196620</td>\n",
       "      <td>177.979102</td>\n",
       "      <td>289.619038</td>\n",
       "    </tr>\n",
       "    <tr>\n",
       "      <th>0</th>\n",
       "      <td>317.942857</td>\n",
       "      <td>167.194684</td>\n",
       "      <td>177.891452</td>\n",
       "      <td>301.652136</td>\n",
       "    </tr>\n",
       "    <tr>\n",
       "      <th>0</th>\n",
       "      <td>331.571429</td>\n",
       "      <td>157.192857</td>\n",
       "      <td>178.053729</td>\n",
       "      <td>313.714291</td>\n",
       "    </tr>\n",
       "    <tr>\n",
       "      <th>0</th>\n",
       "      <td>345.200000</td>\n",
       "      <td>148.191129</td>\n",
       "      <td>178.026292</td>\n",
       "      <td>325.754344</td>\n",
       "    </tr>\n",
       "    <tr>\n",
       "      <th>0</th>\n",
       "      <td>358.828571</td>\n",
       "      <td>140.189489</td>\n",
       "      <td>177.946510</td>\n",
       "      <td>337.788240</td>\n",
       "    </tr>\n",
       "    <tr>\n",
       "      <th>0</th>\n",
       "      <td>372.457143</td>\n",
       "      <td>133.187930</td>\n",
       "      <td>177.961161</td>\n",
       "      <td>349.833001</td>\n",
       "    </tr>\n",
       "    <tr>\n",
       "      <th>0</th>\n",
       "      <td>386.085714</td>\n",
       "      <td>127.186446</td>\n",
       "      <td>178.223903</td>\n",
       "      <td>361.906444</td>\n",
       "    </tr>\n",
       "    <tr>\n",
       "      <th>0</th>\n",
       "      <td>399.714286</td>\n",
       "      <td>121.185029</td>\n",
       "      <td>177.904117</td>\n",
       "      <td>373.911751</td>\n",
       "    </tr>\n",
       "    <tr>\n",
       "      <th>0</th>\n",
       "      <td>413.342857</td>\n",
       "      <td>116.183674</td>\n",
       "      <td>178.033203</td>\n",
       "      <td>385.968865</td>\n",
       "    </tr>\n",
       "    <tr>\n",
       "      <th>0</th>\n",
       "      <td>426.971429</td>\n",
       "      <td>112.182376</td>\n",
       "      <td>178.776576</td>\n",
       "      <td>398.097051</td>\n",
       "    </tr>\n",
       "    <tr>\n",
       "      <th>0</th>\n",
       "      <td>440.600000</td>\n",
       "      <td>107.181132</td>\n",
       "      <td>177.961696</td>\n",
       "      <td>410.042392</td>\n",
       "    </tr>\n",
       "  </tbody>\n",
       "</table>\n",
       "</div>"
      ],
      "text/plain": [
       "   Oven Temperature (F)  Time (min)  Inner Temperature (F)  \\\n",
       "0            249.800000  255.205742             178.080469   \n",
       "0            263.428571  230.203219             178.134822   \n",
       "0            277.057143  210.200871             178.214910   \n",
       "0            290.685714  193.198678             178.027344   \n",
       "0            304.314286  179.196620             177.979102   \n",
       "0            317.942857  167.194684             177.891452   \n",
       "0            331.571429  157.192857             178.053729   \n",
       "0            345.200000  148.191129             178.026292   \n",
       "0            358.828571  140.189489             177.946510   \n",
       "0            372.457143  133.187930             177.961161   \n",
       "0            386.085714  127.186446             178.223903   \n",
       "0            399.714286  121.185029             177.904117   \n",
       "0            413.342857  116.183674             178.033203   \n",
       "0            426.971429  112.182376             178.776576   \n",
       "0            440.600000  107.181132             177.961696   \n",
       "\n",
       "   Outer Temperature (F)  \n",
       "0             241.457621  \n",
       "0             253.507246  \n",
       "0             265.559865  \n",
       "0             277.581349  \n",
       "0             289.619038  \n",
       "0             301.652136  \n",
       "0             313.714291  \n",
       "0             325.754344  \n",
       "0             337.788240  \n",
       "0             349.833001  \n",
       "0             361.906444  \n",
       "0             373.911751  \n",
       "0             385.968865  \n",
       "0             398.097051  \n",
       "0             410.042392  "
      ]
     },
     "execution_count": 278,
     "metadata": {},
     "output_type": "execute_result"
    }
   ],
   "source": [
    "results_table = make_results_table(detailed_sweep, 355)"
   ]
  },
  {
   "cell_type": "markdown",
   "metadata": {},
   "source": [
    "## Research stuff:"
   ]
  },
  {
   "cell_type": "markdown",
   "metadata": {},
   "source": [
    "### From thermal properities of food pdf (in google doc): \n",
    "Turkey specific heat above freezing 3.53 kJ/(kg·K)\n",
    "Turkey, breast 0.496 W/(m·K) thermal conductivity at 3 degrees C"
   ]
  },
  {
   "cell_type": "markdown",
   "metadata": {},
   "source": [
    "### From turkey cooking article:\n",
    "http://www.greenbuildingadvisor.com/sites/default/files/Modeling%20Heat%20Transfer%20of%20Turkeys.pdf data from turkey\n",
    " 118°C oven temp, with the oven at room temperature starting their experiment\n",
    " thermal conductivity 0.461 W/m K\n",
    " surface heat transfer coefficient of 19.252 W/m2K"
   ]
  },
  {
   "cell_type": "markdown",
   "metadata": {},
   "source": [
    "https://www.allrecipes.com/recipe/166160/juicy-thanksgiving-turkey/\n",
    "This is the recipe we got \"180\" from"
   ]
  },
  {
   "cell_type": "markdown",
   "metadata": {},
   "source": [
    "## Interpretation"
   ]
  },
  {
   "cell_type": "markdown",
   "metadata": {},
   "source": [
    "- Assumptions we made\n",
    "- the answer\n",
    "- what the results mean for the real world\n",
    "- what mistakes we made and how we would fix them in the future\n",
    "- what improvements we could make in general"
   ]
  },
  {
   "cell_type": "code",
   "execution_count": null,
   "metadata": {},
   "outputs": [],
   "source": []
  }
 ],
 "metadata": {
  "kernelspec": {
   "display_name": "Python 3",
   "language": "python",
   "name": "python3"
  },
  "language_info": {
   "codemirror_mode": {
    "name": "ipython",
    "version": 3
   },
   "file_extension": ".py",
   "mimetype": "text/x-python",
   "name": "python",
   "nbconvert_exporter": "python",
   "pygments_lexer": "ipython3",
   "version": "3.6.6"
  }
 },
 "nbformat": 4,
 "nbformat_minor": 2
}
