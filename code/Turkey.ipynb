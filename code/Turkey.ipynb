{
 "cells": [
  {
   "cell_type": "markdown",
   "metadata": {},
   "source": [
    "# Turkey"
   ]
  },
  {
   "cell_type": "code",
   "execution_count": null,
   "metadata": {},
   "outputs": [],
   "source": [
    "Questions we have:\n",
    "    inner temp-- why slope so small?\n",
    "    why is oven temperature not having an effect?\n",
    "    adv"
   ]
  },
  {
   "cell_type": "markdown",
   "metadata": {},
   "source": [
    "### From turkey cooking article:\n",
    "http://www.greenbuildingadvisor.com/sites/default/files/Modeling%20Heat%20Transfer%20of%20Turkeys.pdf data from turkey\n",
    " 118°C oven temp, with the oven at room temperature starting their experiment\n",
    " thermal conductivity 0.461 W/m K\n",
    " surface heat transfer coefficient of 19.252 W/m2K"
   ]
  },
  {
   "cell_type": "markdown",
   "metadata": {},
   "source": [
    "### From thermal properities of food pdf (in google doc): \n",
    "Turkey specific heat above freezing 3.53 kJ/(kg·K)\n",
    "Turkey, breast 0.496 W/(m·K) thermal conductivity at 3 degrees C"
   ]
  },
  {
   "cell_type": "markdown",
   "metadata": {},
   "source": [
    "****put math in here****"
   ]
  },
  {
   "cell_type": "code",
   "execution_count": 103,
   "metadata": {},
   "outputs": [],
   "source": [
    "# Configure Jupyter so figures appear in the notebook\n",
    "%matplotlib inline\n",
    "\n",
    "# Configure Jupyter to display the assigned value after an assignment\n",
    "%config InteractiveShell.ast_node_interactivity='last_expr_or_assign'\n",
    "\n",
    "# import functions from the modsim.py module\n",
    "from modsim import *"
   ]
  },
  {
   "cell_type": "code",
   "execution_count": 56,
   "metadata": {},
   "outputs": [],
   "source": [
    "def make_system(params, T_oven, T_init, t_end):\n",
    "    \"\"\"Make a system object for the turkey model.\n",
    "    inner is inner temperature of turkey\n",
    "    outer is outer temperature of turkey\n",
    "    \n",
    "    params is the r and C values for thermal compartments\n",
    "    t_end is when the turkey is taken out of the oven\n",
    "    )\n",
    "    \n",
    "    returns: System object\n",
    "    \"\"\"\n",
    "    #initial temperatures are of the temperature of pre-heated oven\n",
    "    init = State(T_inner=T_init, T_outer=T_init)\n",
    "\n",
    "    return System(init=init, t0=0, t_end=t_end, T_oven=T_oven,\n",
    "                  params = params)"
   ]
  },
  {
   "cell_type": "code",
   "execution_count": 94,
   "metadata": {},
   "outputs": [],
   "source": [
    "def slope_func(state, t, system):\n",
    "    \"\"\"Makes the differential equations.\n",
    "    \n",
    "    state: State (t_inner, t_outer)\n",
    "    t: time\n",
    "    system: System object\n",
    "    \n",
    "    returns: didt, dodt\n",
    "    \"\"\"\n",
    "    \n",
    "    unpack(system)\n",
    "    r_outer, r_inner, c_inner, c_outer = params\n",
    "    T_inner, T_outer = state\n",
    "    \n",
    "    o_flux = (T_oven-T_outer)/r_outer\n",
    "    i_flux = (T_outer-T_inner)/r_inner\n",
    "    \n",
    "    dodt = (o_flux-i_flux)/c_outer\n",
    "    \n",
    "    #compute inner temperature change\n",
    "    didt = i_flux/c_inner\n",
    "    \n",
    "    return didt, dodt"
   ]
  },
  {
   "cell_type": "code",
   "execution_count": 95,
   "metadata": {},
   "outputs": [],
   "source": [
    "def plot_results(inner, outer):\n",
    "    \"\"\"Plot the inner and outer temperatures of the Turkey\n",
    "    \n",
    "    inner: TimeSeries\n",
    "    outer: TimeSeries\n",
    "    \n",
    "    \"\"\"\n",
    "    inner_f=convert_k_to_f(inner)\n",
    "    outer_f=convert_k_to_f(outer)\n",
    "    plot(inner_f, '-', label='Inner Turkey Temp')\n",
    "    plot(outer_f, '-', label='Outer TurkeyTemp')\n",
    "    \n",
    "    decorate(xlabel='Minutes',\n",
    "             ylabel='Temperature')"
   ]
  },
  {
   "cell_type": "code",
   "execution_count": 96,
   "metadata": {},
   "outputs": [],
   "source": [
    "def convert_k_to_f(k):\n",
    "    return (k-273)*(9/5) + 32"
   ]
  },
  {
   "cell_type": "code",
   "execution_count": 97,
   "metadata": {},
   "outputs": [
    {
     "data": {
      "text/html": [
       "<div>\n",
       "<style scoped>\n",
       "    .dataframe tbody tr th:only-of-type {\n",
       "        vertical-align: middle;\n",
       "    }\n",
       "\n",
       "    .dataframe tbody tr th {\n",
       "        vertical-align: top;\n",
       "    }\n",
       "\n",
       "    .dataframe thead th {\n",
       "        text-align: right;\n",
       "    }\n",
       "</style>\n",
       "<table border=\"1\" class=\"dataframe\">\n",
       "  <thead>\n",
       "    <tr style=\"text-align: right;\">\n",
       "      <th></th>\n",
       "      <th>values</th>\n",
       "    </tr>\n",
       "  </thead>\n",
       "  <tbody>\n",
       "    <tr>\n",
       "      <th>r_outer</th>\n",
       "      <td>0.02</td>\n",
       "    </tr>\n",
       "    <tr>\n",
       "      <th>r_inner</th>\n",
       "      <td>0.02</td>\n",
       "    </tr>\n",
       "    <tr>\n",
       "      <th>c_inner</th>\n",
       "      <td>7000.00</td>\n",
       "    </tr>\n",
       "    <tr>\n",
       "      <th>c_outer</th>\n",
       "      <td>7000.00</td>\n",
       "    </tr>\n",
       "  </tbody>\n",
       "</table>\n",
       "</div>"
      ],
      "text/plain": [
       "r_outer       0.02\n",
       "r_inner       0.02\n",
       "c_inner    7000.00\n",
       "c_outer    7000.00\n",
       "dtype: float64"
      ]
     },
     "execution_count": 97,
     "metadata": {},
     "output_type": "execute_result"
    }
   ],
   "source": [
    "params = Params(\n",
    "    r_outer = 0.02, #Km^2/W\n",
    "    r_inner = 0.02, #Km^2/W\n",
    "    c_inner = 7000, #J/K\n",
    "    c_outer = 7000, #J/K\n",
    "    #.282\n",
    "    )"
   ]
  },
  {
   "cell_type": "code",
   "execution_count": 98,
   "metadata": {},
   "outputs": [],
   "source": [
    "system=make_system(params,391,275,500)\n",
    "results, details=run_ode_solver(system,slope_func,max_step=1)\n"
   ]
  },
  {
   "cell_type": "code",
   "execution_count": 99,
   "metadata": {},
   "outputs": [
    {
     "data": {
      "image/png": "[encoded data removed]",
      "text/plain": [
       "<Figure size 432x288 with 1 Axes>"
      ]
     },
     "metadata": {},
     "output_type": "display_data"
    }
   ],
   "source": [
    "plot_results(results.T_inner, results.T_outer)"
   ]
  },
  {
   "cell_type": "code",
   "execution_count": 110,
   "metadata": {},
   "outputs": [],
   "source": [
    "def sweep_temp(system, slope_func, min_temp, max_temp):\n",
    "    '''Sweep oven temperature\n",
    "    \n",
    "    min_temp: lowest temperature \n",
    "    max_temp: highest temperature\n",
    "    \n",
    "    Returns: Sweepseries\n",
    "    '''\n",
    "    \n",
    "    temp_array = linspace(min_temp, max_temp, 3)\n",
    "    sweep = SweepSeries()\n",
    "    \n",
    "    for temp in temp_array:\n",
    "        results, details = run_ode_solver(system,slope_func,max_step=1)\n",
    "        plot_results(results.T_inner, results.T_outer)\n",
    "        #sweep[temp] = results\n",
    "    \n",
    "    \n",
    "    "
   ]
  },
  {
   "cell_type": "code",
   "execution_count": 111,
   "metadata": {},
   "outputs": [
    {
     "data": {
      "image/png": "[encoded data removed]",
      "text/plain": [
       "<Figure size 432x288 with 1 Axes>"
      ]
     },
     "metadata": {},
     "output_type": "display_data"
    }
   ],
   "source": [
    "sweep_temp(system, slope_func, 350, 400)"
   ]
  },
  {
   "cell_type": "code",
   "execution_count": null,
   "metadata": {},
   "outputs": [],
   "source": []
  },
  {
   "cell_type": "code",
   "execution_count": null,
   "metadata": {},
   "outputs": [],
   "source": []
  }
 ],
 "metadata": {
  "kernelspec": {
   "display_name": "Python 3",
   "language": "python",
   "name": "python3"
  },
  "language_info": {
   "codemirror_mode": {
    "name": "ipython",
    "version": 3
   },
   "file_extension": ".py",
   "mimetype": "text/x-python",
   "name": "python",
   "nbconvert_exporter": "python",
   "pygments_lexer": "ipython3",
   "version": "3.6.6"
  }
 },
 "nbformat": 4,
 "nbformat_minor": 2
}
