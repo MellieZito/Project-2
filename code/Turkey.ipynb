{
 "cells": [
  {
   "cell_type": "markdown",
   "metadata": {},
   "source": [
    "# Turkey"
   ]
  },
  {
   "cell_type": "code",
   "execution_count": 49,
   "metadata": {},
   "outputs": [],
   "source": [
    "# Configure Jupyter so figures appear in the notebook\n",
    "%matplotlib inline\n",
    "\n",
    "# Configure Jupyter to display the assigned value after an assignment\n",
    "%config InteractiveShell.ast_node_interactivity='last_expr_or_assign'\n",
    "\n",
    "# import functions from the modsim.py module\n",
    "from modsim import *\n",
    "\n",
    "import numpy as np\n",
    "import math\n",
    "import pandas as pd\n",
    "\n",
    "from IPython.display import Image"
   ]
  },
  {
   "cell_type": "markdown",
   "metadata": {},
   "source": [
    "To do:\n",
    "    \n",
    "access 180F of inner of each sweep, display in table with corresponding outer\n",
    "    \n",
    "estimate/research ideal turkey temp- outside (upper bound outside of meat burning temp)\n",
    "\n",
    "validation: thing to compare it to\n",
    "\n",
    "finish computational essay\n"
   ]
  },
  {
   "cell_type": "markdown",
   "metadata": {},
   "source": [
    "## Question"
   ]
  },
  {
   "cell_type": "markdown",
   "metadata": {},
   "source": [
    "### When cooking a 10 pound turkey, what is the best length of time to cook it for and best oven temperature to cook it at?"
   ]
  },
  {
   "cell_type": "markdown",
   "metadata": {},
   "source": [
    "With the upcoming Thanksgiving season, the concern of cooking the perfect turkey is on many families’ minds.\n",
    "If you cook a turkey at too high of an oven temperature, the outside cooks faster than the inside, and can cause burning or undercooking of the inside of the turkey. On the other hand, if you cook a turkey at too low an oven temperature, it takes a very long time to cook, and you do not get a good crispy outside. Also, if you cook a turkey for too little time you risk undercooking and if you cook a turkey for too long it can cause dryness and burning. It’s important to balance time and oven temperature in order to cook a good thanksgiving turkey, and so we wanted to explore the ideal factors.\n"
   ]
  },
  {
   "cell_type": "markdown",
   "metadata": {},
   "source": [
    "## Model"
   ]
  },
  {
   "cell_type": "markdown",
   "metadata": {},
   "source": [
    "We modeled the turkey as a sphere made of two layers. The spherical turkey weighed 10 lbs and has a diameter of 30 centimeters -- both determined from online turkey recipes. The outer layer of the turkey was assumed to have a thickness of 3 cm. The heat of the oven was kept constant within a single run of the simulation, and heat was modeled to be transferred via conduction between the air of the oven and the outer layer of the turkey, and between the outer and inner layers."
   ]
  },
  {
   "cell_type": "code",
   "execution_count": 50,
   "metadata": {},
   "outputs": [],
   "source": [
    "def make_system(params, T_oven, T_init, t_end):\n",
    "    \"\"\"Make a system object for the turkey model.\n",
    "    inner is inner temperature of turkey\n",
    "    outer is outer temperature of turkey\n",
    "    \n",
    "    params is the r and C values for thermal compartments\n",
    "    t_end is when the turkey is taken out of the oven\n",
    "    )\n",
    "    \n",
    "    returns: System object\n",
    "    \"\"\"\n",
    "    #initial temperatures are of the temperature of pre-heated oven\n",
    "    init = State(T_inner=T_init, T_outer=T_init)\n",
    "\n",
    "    return System(init=init, t0=0, t_end=t_end, T_oven=T_oven,\n",
    "                  params = params)"
   ]
  },
  {
   "cell_type": "markdown",
   "metadata": {},
   "source": [
    "The C value of each layer was estimated as the mass multiplied by the specific heat of turkey meat (3.53 kJ/kg\\*K)from ashrae.org's \"Thermal Properties of Foods\" and the R values were assumed to be the same and were estimated so the temperature of the internal layer over time would match that of an actual turkey being cooked in this paper: http://www.greenbuildingadvisor.com/sites/default/files/Modeling%20Heat%20Transfer%20of%20Turkeys.pdf\n",
    "https://www.researchgate.net/file.PostFileLoader.html?id=57dc0df6dc332d6c7a2b0e94&assetKey=AS%3A406964417908742%401474039286881"
   ]
  },
  {
   "cell_type": "code",
   "execution_count": 112,
   "metadata": {},
   "outputs": [],
   "source": [
    "params = Params(\n",
    "    r_inner = 0.004, #Km^2/W\n",
    "    r_outer = 0.006, #Km^2/W\n",
    "    c_inner = 16490, #J/K\n",
    "    c_outer = 7520); #J/K\n",
    "#attempting to do two different r values\n",
    "#.0058 when r's match\n",
    "'''params = Params(\n",
    "    r_outer = 0.006, #Km^2/W\n",
    "    r_inner = 0.006, #Km^2/W\n",
    "    c_inner = 10450, #J/K\n",
    "    c_outer = 5330, #J/K\n",
    "    )''';"
   ]
  },
  {
   "cell_type": "markdown",
   "metadata": {},
   "source": [
    "The functions convert_k_to_f to assist in plot clarity. convert_k_to_f converts the kelvin temperatures from calculations into farenheit for plotting."
   ]
  },
  {
   "cell_type": "code",
   "execution_count": 113,
   "metadata": {},
   "outputs": [],
   "source": [
    "def convert_k_to_f(k):\n",
    "    return (k-273)*(9/5) + 32"
   ]
  },
  {
   "cell_type": "markdown",
   "metadata": {},
   "source": [
    "To calculate the temperature derivative with respect to time of the outer and inner layers (dodt and didt respectively), we used the formulas\n",
    "Flux = (T_ext - T) / R\n",
    "And\n",
    "dT/dt = net flux/C\n",
    "Where R = thermal resistivity and C = thermal mass."
   ]
  },
  {
   "cell_type": "code",
   "execution_count": 114,
   "metadata": {},
   "outputs": [],
   "source": [
    "def slope_func(state, t, system):\n",
    "    \"\"\"Makes the differential equations.\n",
    "    \n",
    "    state: State (t_inner, t_outer)\n",
    "    t: time\n",
    "    system: System object\n",
    "    \n",
    "    returns: didt, dodt\n",
    "    \"\"\"\n",
    "    \n",
    "    unpack(system)\n",
    "    r_outer, r_inner, c_inner, c_outer = params\n",
    "    T_inner, T_outer = state\n",
    "    \n",
    "    o_flux = (T_oven-T_outer)/r_outer\n",
    "    i_flux = (T_outer-T_inner)/r_inner\n",
    "    \n",
    "    dodt = (o_flux-i_flux)/c_outer\n",
    "    \n",
    "    #compute inner temperature change\n",
    "    didt = i_flux/c_inner\n",
    "    \n",
    "    return didt, dodt"
   ]
  },
  {
   "cell_type": "markdown",
   "metadata": {},
   "source": [
    "Plot results is created to aid in plotting our model's inner and outer turkey temperature and data from an article (for validation)."
   ]
  },
  {
   "cell_type": "code",
   "execution_count": 131,
   "metadata": {},
   "outputs": [],
   "source": [
    "def plot_results_validation(inner, outer, validation):\n",
    "    \"\"\"Plot the inner and outer temperatures of the Turkey\n",
    "    to compare to the validation curve\n",
    "    \n",
    "    inner: TimeSeries\n",
    "    outer: TimeSeries\n",
    "    validation: TimeSeries\n",
    "    \n",
    "    \"\"\"\n",
    "    inner_f=convert_k_to_f(inner)\n",
    "    outer_f=convert_k_to_f(outer)\n",
    "    validation_f=convert_k_to_f(validation)\n",
    "    plot(inner_f, '-', label='Inner Temperature')\n",
    "    plot(outer_f, '-', label='Outer Temperature')\n",
    "    plot(validation_f, '-', label='Validation')\n",
    "    \n",
    "    decorate(xlabel='Minutes',\n",
    "             ylabel='Temperature (Degrees F)',\n",
    "             title = 'Cooking Time of a Turkey')"
   ]
  },
  {
   "cell_type": "markdown",
   "metadata": {},
   "source": [
    "### Validation"
   ]
  },
  {
   "cell_type": "markdown",
   "metadata": {},
   "source": [
    "To calibrate the r values and verify that the curve for turkey cooking is correct, the inner temperatures of the turkey over time are plotted and compared to the shape of the curve from this article: [http://www.greenbuildingadvisor.com/sites/default/files/Modeling%20Heat%20Transfer%20of%20Turkeys.pdf] and the final temperature inner temp at 3hrs 20 mins when the turkey should be cooked is compared to that of this recipe: [https://www.allrecipes.com/recipe/166160/juicy-thanksgiving-turkey/ ]."
   ]
  },
  {
   "cell_type": "markdown",
   "metadata": {},
   "source": [
    "The plot below is from the article. Its data points were translated over manually to a TimeSeries to then be plotted as validation."
   ]
  },
  {
   "cell_type": "code",
   "execution_count": 19,
   "metadata": {},
   "outputs": [
    {
     "data": {
      "image/png": "[encoded data removed]",
      "text/plain": [
       "<IPython.core.display.Image object>"
      ]
     },
     "execution_count": 19,
     "metadata": {},
     "output_type": "execute_result"
    }
   ],
   "source": [
    "Image(\"images/turkey_temp_graph.png\")"
   ]
  },
  {
   "cell_type": "markdown",
   "metadata": {},
   "source": [
    "#### Legend: \n",
    "\n",
    "#### circle = thigh of 6.8kg calculated values from artile (best fit line matches to this)\n",
    "\n",
    "#### hexagon = thigh of 7.1kg fresh turkey "
   ]
  },
  {
   "cell_type": "markdown",
   "metadata": {},
   "source": [
    "6.8kg is 15 pounds (the weight of our model's turkey). The graph from the article shows the curve for the inner temperature of a turkey (thigh in this case)."
   ]
  },
  {
   "cell_type": "markdown",
   "metadata": {},
   "source": [
    "The data points were found and written down manually into a TimeSeries, and then plotted as an individual graph to make sure it was an accurate representation of the article data."
   ]
  },
  {
   "cell_type": "code",
   "execution_count": 189,
   "metadata": {},
   "outputs": [
    {
     "data": {
      "text/html": [
       "<div>\n",
       "<style scoped>\n",
       "    .dataframe tbody tr th:only-of-type {\n",
       "        vertical-align: middle;\n",
       "    }\n",
       "\n",
       "    .dataframe tbody tr th {\n",
       "        vertical-align: top;\n",
       "    }\n",
       "\n",
       "    .dataframe thead th {\n",
       "        text-align: right;\n",
       "    }\n",
       "</style>\n",
       "<table border=\"1\" class=\"dataframe\">\n",
       "  <thead>\n",
       "    <tr style=\"text-align: right;\">\n",
       "      <th></th>\n",
       "      <th>values</th>\n",
       "    </tr>\n",
       "  </thead>\n",
       "  <tbody>\n",
       "    <tr>\n",
       "      <th>10</th>\n",
       "      <td>1</td>\n",
       "    </tr>\n",
       "    <tr>\n",
       "      <th>20</th>\n",
       "      <td>5</td>\n",
       "    </tr>\n",
       "    <tr>\n",
       "      <th>40</th>\n",
       "      <td>20</td>\n",
       "    </tr>\n",
       "    <tr>\n",
       "      <th>60</th>\n",
       "      <td>40</td>\n",
       "    </tr>\n",
       "    <tr>\n",
       "      <th>80</th>\n",
       "      <td>55</td>\n",
       "    </tr>\n",
       "    <tr>\n",
       "      <th>90</th>\n",
       "      <td>63</td>\n",
       "    </tr>\n",
       "    <tr>\n",
       "      <th>95</th>\n",
       "      <td>66</td>\n",
       "    </tr>\n",
       "    <tr>\n",
       "      <th>100</th>\n",
       "      <td>68</td>\n",
       "    </tr>\n",
       "    <tr>\n",
       "      <th>120</th>\n",
       "      <td>75</td>\n",
       "    </tr>\n",
       "    <tr>\n",
       "      <th>140</th>\n",
       "      <td>80</td>\n",
       "    </tr>\n",
       "    <tr>\n",
       "      <th>160</th>\n",
       "      <td>85</td>\n",
       "    </tr>\n",
       "  </tbody>\n",
       "</table>\n",
       "</div>"
      ],
      "text/plain": [
       "10      1\n",
       "20      5\n",
       "40     20\n",
       "60     40\n",
       "80     55\n",
       "90     63\n",
       "95     66\n",
       "100    68\n",
       "120    75\n",
       "140    80\n",
       "160    85\n",
       "dtype: int64"
      ]
     },
     "execution_count": 189,
     "metadata": {},
     "output_type": "execute_result"
    }
   ],
   "source": [
    "t_validation = [10, 20, 40, 60, 80, 90, 95, 100, 120, 140, 160] #minutes\n",
    "inner_T_valid_C = [1, 5, 20, 40, 55, 63, 66, 68, 75, 80, 85] #degrees celcius\n",
    "data_validation_C = TimeSeries(inner_T_valid_C,t_validation)"
   ]
  },
  {
   "cell_type": "code",
   "execution_count": 191,
   "metadata": {
    "scrolled": true
   },
   "outputs": [
    {
     "data": {
      "image/png": "[encoded data removed]",
      "text/plain": [
       "<Figure size 432x288 with 1 Axes>"
      ]
     },
     "metadata": {
      "needs_background": "light"
     },
     "output_type": "display_data"
    }
   ],
   "source": [
    "plot(data_validation_C)\n",
    "decorate(xlabel='Minutes',\n",
    "        ylabel='Temperature (Degrees C)',\n",
    "        title = 'Article\\'s 6.8kg Turkey Thigh Cooking Time')"
   ]
  },
  {
   "cell_type": "markdown",
   "metadata": {},
   "source": [
    "Since the article data was in celcius, the temperature was converted to kelvin to match with the units of our model temperatures."
   ]
  },
  {
   "cell_type": "code",
   "execution_count": null,
   "metadata": {},
   "outputs": [],
   "source": [
    "inner_T_validation = []\n",
    "for temp in inner_T_valid_C:\n",
    "    temp_k = temp + 273\n",
    "    inner_T_validation.append(temp_k)\n",
    "data_validation = TimeSeries(inner_T_validation,t_validation)"
   ]
  },
  {
   "cell_type": "markdown",
   "metadata": {},
   "source": [
    "The validation curve is then plotted with the model temperatures. The model temperatures are calculated using the params, make_system, and slope_func (shown above) and the ode_solver below."
   ]
  },
  {
   "cell_type": "code",
   "execution_count": 187,
   "metadata": {
    "scrolled": false
   },
   "outputs": [
    {
     "data": {
      "image/png": "[encoded data removed]",
      "text/plain": [
       "<Figure size 432x288 with 1 Axes>"
      ]
     },
     "metadata": {
      "needs_background": "light"
     },
     "output_type": "display_data"
    }
   ],
   "source": [
    "system = make_system(params,450,275,500)\n",
    "results, details = run_ode_solver(system,slope_func,max_step=1)\n",
    "plot_results_validation(results.T_inner, results.T_outer, data_validation)#got rid of outer temporarily\n",
    "#plot(results.T_inner) \n",
    "#plotting the results before converting has a different slope. \n",
    "#i guess this makes sense but are we okay with that"
   ]
  },
  {
   "cell_type": "markdown",
   "metadata": {},
   "source": [
    "Then, for additional verification and to fine tune the r values, the recipe values were compared to our model's values. The recipe for a 15 pound turkey has the inner temperature of the turkey at 180 degrees farenheit when it is removed from the oven after 200 minutes (3 hrs 20 mins). For our verification plot, the inner temperature of the turkey is 180 degrees farenheit at 200 minutes."
   ]
  },
  {
   "cell_type": "markdown",
   "metadata": {},
   "source": [
    "### Sweep"
   ]
  },
  {
   "cell_type": "markdown",
   "metadata": {},
   "source": [
    "Once the temperatures are verified on a graph, a sweepseries of oven temperatures is made. The sweepseries is used to make a graph of the oven temperature and the corresponding inner temperature and outer temperature of the turkey at given times."
   ]
  },
  {
   "cell_type": "code",
   "execution_count": 8,
   "metadata": {},
   "outputs": [],
   "source": [
    "def sweep_temp(slope_func, min_temp, max_temp, time):\n",
    "    '''Sweep oven temperature\n",
    "    \n",
    "    min_temp: lowest temperature \n",
    "    max_temp: highest temperature\n",
    "    \n",
    "    Returns: Sweepseries\n",
    "    '''\n",
    "    \n",
    "    temp_array = linspace(min_temp, max_temp, 5)\n",
    "    sweep = SweepSeries()\n",
    "    \n",
    "    colors = ['red','orange','yellow','green','blue','purple']\n",
    "    color_counter = 0\n",
    "    \n",
    "    for temp in temp_array:\n",
    "        system=make_system(params,temp,275,time) #make_system(params, T_oven, T_init, t_end)\n",
    "        results, details = run_ode_solver(system,slope_func,max_step=1)\n",
    "        plot_results(results.T_inner, results.T_outer, colors[color_counter])\n",
    "        color_counter += 1\n",
    "        sweep[temp] = results\n",
    "    \n",
    "    return sweep"
   ]
  },
  {
   "cell_type": "markdown",
   "metadata": {},
   "source": [
    "## Results"
   ]
  },
  {
   "cell_type": "markdown",
   "metadata": {},
   "source": [
    "Talk about results and stuff."
   ]
  },
  {
   "cell_type": "code",
   "execution_count": 9,
   "metadata": {},
   "outputs": [],
   "source": [
    "def plot_results(inner, outer, color):\n",
    "    \"\"\"Plot the inner and outer temperatures of the Turkey\n",
    "    \n",
    "    inner: TimeSeries\n",
    "    outer: TimeSeries\n",
    "    \n",
    "    \"\"\"\n",
    "    inner_f=convert_k_to_f(inner)\n",
    "    outer_f=convert_k_to_f(outer)\n",
    "    plot(inner_f, '-', color = color)\n",
    "    plot(outer_f, '-', color = color)\n",
    "    \n",
    "    decorate(xlabel='Minutes',\n",
    "             ylabel='Temperature')"
   ]
  },
  {
   "cell_type": "code",
   "execution_count": 10,
   "metadata": {},
   "outputs": [
    {
     "data": {
      "text/html": [
       "<div>\n",
       "<style scoped>\n",
       "    .dataframe tbody tr th:only-of-type {\n",
       "        vertical-align: middle;\n",
       "    }\n",
       "\n",
       "    .dataframe tbody tr th {\n",
       "        vertical-align: top;\n",
       "    }\n",
       "\n",
       "    .dataframe thead th {\n",
       "        text-align: right;\n",
       "    }\n",
       "</style>\n",
       "<table border=\"1\" class=\"dataframe\">\n",
       "  <thead>\n",
       "    <tr style=\"text-align: right;\">\n",
       "      <th></th>\n",
       "      <th>values</th>\n",
       "    </tr>\n",
       "  </thead>\n",
       "  <tbody>\n",
       "    <tr>\n",
       "      <th>394.0</th>\n",
       "      <td>T_inner     T_outer\n",
       "0.000000   ...</td>\n",
       "    </tr>\n",
       "    <tr>\n",
       "      <th>420.5</th>\n",
       "      <td>T_inner     T_outer\n",
       "0.000000   ...</td>\n",
       "    </tr>\n",
       "    <tr>\n",
       "      <th>447.0</th>\n",
       "      <td>T_inner     T_outer\n",
       "0.000000   ...</td>\n",
       "    </tr>\n",
       "    <tr>\n",
       "      <th>473.5</th>\n",
       "      <td>T_inner     T_outer\n",
       "0.000000   ...</td>\n",
       "    </tr>\n",
       "    <tr>\n",
       "      <th>500.0</th>\n",
       "      <td>T_inner     T_outer\n",
       "0.000000   ...</td>\n",
       "    </tr>\n",
       "  </tbody>\n",
       "</table>\n",
       "</div>"
      ],
      "text/plain": [
       "394.0                   T_inner     T_outer\n",
       "0.000000   ...\n",
       "420.5                   T_inner     T_outer\n",
       "0.000000   ...\n",
       "447.0                   T_inner     T_outer\n",
       "0.000000   ...\n",
       "473.5                   T_inner     T_outer\n",
       "0.000000   ...\n",
       "500.0                   T_inner     T_outer\n",
       "0.000000   ...\n",
       "dtype: object"
      ]
     },
     "execution_count": 10,
     "metadata": {},
     "output_type": "execute_result"
    },
    {
     "data": {
      "image/png": "[encoded data removed]",
      "text/plain": [
       "<Figure size 432x288 with 1 Axes>"
      ]
     },
     "metadata": {},
     "output_type": "display_data"
    }
   ],
   "source": [
    "sweep = sweep_temp(slope_func, 394, 500, 400)"
   ]
  },
  {
   "cell_type": "code",
   "execution_count": 104,
   "metadata": {},
   "outputs": [
    {
     "name": "stdout",
     "output_type": "stream",
     "text": [
      "2\n"
     ]
    }
   ],
   "source": [
    "def get_min(my_list):\n",
    "    my_min = np.inf\n",
    "    for item in my_list:\n",
    "        if item < my_min:\n",
    "            my_min = item\n",
    "    return my_min\n",
    "\n",
    "my_list = [3,2,7.546,10,2,8]\n",
    "print(get_min(my_list))"
   ]
  },
  {
   "cell_type": "code",
   "execution_count": 173,
   "metadata": {
    "scrolled": true
   },
   "outputs": [
    {
     "name": "stdout",
     "output_type": "stream",
     "text": [
      "[354.0566736154039, 354.11973344336036, 354.23738467760165, 354.6590610124782, 354.5972759714013]\n",
      "[371.52157338175965, 383.1372826805825, 394.750908721919, 406.4642004870532, 417.78127253276284]\n"
     ]
    },
    {
     "data": {
      "text/html": [
       "<div>\n",
       "<style scoped>\n",
       "    .dataframe tbody tr th:only-of-type {\n",
       "        vertical-align: middle;\n",
       "    }\n",
       "\n",
       "    .dataframe tbody tr th {\n",
       "        vertical-align: top;\n",
       "    }\n",
       "\n",
       "    .dataframe thead th {\n",
       "        text-align: right;\n",
       "    }\n",
       "</style>\n",
       "<table border=\"1\" class=\"dataframe\">\n",
       "  <thead>\n",
       "    <tr style=\"text-align: right;\">\n",
       "      <th></th>\n",
       "      <th>values</th>\n",
       "    </tr>\n",
       "  </thead>\n",
       "  <tbody>\n",
       "  </tbody>\n",
       "</table>\n",
       "</div>"
      ],
      "text/plain": [
       "Series([], dtype: float64)"
      ]
     },
     "execution_count": 173,
     "metadata": {},
     "output_type": "execute_result"
    }
   ],
   "source": [
    "def make_results_table(sweep):\n",
    "    \n",
    "    inner_list = []\n",
    "    outer_list = []\n",
    "    \n",
    "    #make list of pairings with 180\n",
    "    for oven_temp in sweep.index:\n",
    "        \n",
    "        #get inner temp closest to 180\n",
    "        off_from_180_list=[]\n",
    "        for temp in sweep[oven_temp].T_inner:\n",
    "            #355 is 180 f in k\n",
    "            off_from_180 = abs(355 - temp)\n",
    "            if off_from_180 < 1:\n",
    "                closest_temp = temp\n",
    "                break\n",
    "        \n",
    "        for index in sweep[oven_temp].T_inner.index:\n",
    "            if sweep[oven_temp].T_inner[index] == closest_temp:\n",
    "                corresp_index = index\n",
    "        \n",
    "        corresp_outer = sweep[oven_temp].T_outer[corresp_index]\n",
    "        \n",
    "        inner_list.append(closest_temp)\n",
    "        outer_list.append(corresp_outer)\n",
    "    \n",
    "    my_table = TimeSeries() \n",
    "    my_table.inner_temps = inner_list\n",
    "    my_table.outer_temps = outer_list\n",
    "    print(my_table.inner_temps)\n",
    "    print(my_table.outer_temps)\n",
    "    \n",
    "    return my_table\n",
    "    \n",
    "    \n",
    "results_table = make_results_table(sweep)"
   ]
  },
  {
   "cell_type": "code",
   "execution_count": 118,
   "metadata": {},
   "outputs": [
    {
     "data": {
      "text/plain": [
       "3"
      ]
     },
     "execution_count": 118,
     "metadata": {},
     "output_type": "execute_result"
    }
   ],
   "source": [
    "int(3.5)"
   ]
  },
  {
   "cell_type": "markdown",
   "metadata": {},
   "source": [
    "### From thermal properities of food pdf (in google doc): \n",
    "Turkey specific heat above freezing 3.53 kJ/(kg·K)\n",
    "Turkey, breast 0.496 W/(m·K) thermal conductivity at 3 degrees C"
   ]
  },
  {
   "cell_type": "markdown",
   "metadata": {},
   "source": [
    "### From turkey cooking article:\n",
    "http://www.greenbuildingadvisor.com/sites/default/files/Modeling%20Heat%20Transfer%20of%20Turkeys.pdf data from turkey\n",
    " 118°C oven temp, with the oven at room temperature starting their experiment\n",
    " thermal conductivity 0.461 W/m K\n",
    " surface heat transfer coefficient of 19.252 W/m2K"
   ]
  },
  {
   "cell_type": "markdown",
   "metadata": {},
   "source": [
    "https://www.allrecipes.com/recipe/166160/juicy-thanksgiving-turkey/\n",
    "This is the recipe we got \"180\" from"
   ]
  },
  {
   "cell_type": "code",
   "execution_count": null,
   "metadata": {},
   "outputs": [],
   "source": []
  }
 ],
 "metadata": {
  "kernelspec": {
   "display_name": "Python 3",
   "language": "python",
   "name": "python3"
  },
  "language_info": {
   "codemirror_mode": {
    "name": "ipython",
    "version": 3
   },
   "file_extension": ".py",
   "mimetype": "text/x-python",
   "name": "python",
   "nbconvert_exporter": "python",
   "pygments_lexer": "ipython3",
   "version": "3.6.6"
  }
 },
 "nbformat": 4,
 "nbformat_minor": 2
}
