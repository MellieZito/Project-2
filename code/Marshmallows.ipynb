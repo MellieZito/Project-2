{
 "cells": [
  {
   "cell_type": "markdown",
   "metadata": {},
   "source": [
    "# How to Ideally Toast a Marshmallow???"
   ]
  },
  {
   "cell_type": "code",
   "execution_count": 3,
   "metadata": {},
   "outputs": [],
   "source": [
    "# Configure Jupyter so figures appear in the notebook\n",
    "%matplotlib inline\n",
    "\n",
    "# Configure Jupyter to display the assigned value after an assignment\n",
    "%config InteractiveShell.ast_node_interactivity='last_expr_or_assign'\n",
    "\n",
    "# import functions from the modsim.py module\n",
    "from modsim import *"
   ]
  },
  {
   "cell_type": "code",
   "execution_count": null,
   "metadata": {},
   "outputs": [],
   "source": [
    "params = Params(\n",
    "    HRR = ,\n",
    "    marsh_absorption = ,\n",
    "    r_outer = ,\n",
    "    r_inner = ,\n",
    "    t_coals = ,\n",
    "    area_marshmallow = ,\n",
    "    \n",
    "    )"
   ]
  },
  {
   "cell_type": "code",
   "execution_count": 11,
   "metadata": {},
   "outputs": [],
   "source": [
    "def make_system(params, d, t_end):\n",
    "    \"\"\"Make a system object for the marshmallow model.\n",
    "    inner is inner temperature of marshmallow\n",
    "    outer is outer temperature of marshmallow\n",
    "    \n",
    "    params is the r and C values for thermal compartments\n",
    "    d is the distance from the fire\n",
    "    t_end is when the marshmallow is removed from the fire\n",
    "    dt is the time step for euler's method\n",
    "    )\n",
    "    \n",
    "    returns: System object\n",
    "    \"\"\"\n",
    "    #initial temperatures are 42 degrees farenheit - outside temp - in kelvin\n",
    "    init = State(t_inner=279, t_outer=279)\n",
    "\n",
    "    return System(init=init, t0=0, t_end=t_end,\n",
    "                  params = params, d = d)\n",
    "\n",
    "#state(outer, inner)\n",
    "#system(init, t0, t_end, parameters, distance)"
   ]
  },
  {
   "cell_type": "code",
   "execution_count": 12,
   "metadata": {},
   "outputs": [],
   "source": [
    "def slope_func(state, t, system):\n",
    "    \"\"\"Makes the differential equations.\n",
    "    \n",
    "    state: State (t_inner, t_outer)\n",
    "    t: time\n",
    "    system: System object\n",
    "    \n",
    "    returns: didt, dodt\n",
    "    \"\"\"\n",
    "    \n",
    "    unpack(system)\n",
    "    # ... = params\n",
    "    t_inner, t_outer = state\n",
    "    \n",
    "    #compute and sum up outer temperature change from radiation and conduction\n",
    "    dodt_rad = HRR * (area_marshmallow) / (4*pi*(d^2)) * marsh_absorption\n",
    "    if d <= 0.5:\n",
    "        dodt_cond = r_outer * (t_coals - t_outer)\n",
    "    else: \n",
    "        dodt_cond = 0\n",
    "    dodt = dodt_rad + dodt_cond\n",
    "    \n",
    "    #compute inner temperature change\n",
    "    didt = r_outer * (t_inner - t_outer)\n",
    "\n",
    "    return didt, dodt"
   ]
  },
  {
   "cell_type": "code",
   "execution_count": null,
   "metadata": {},
   "outputs": [],
   "source": []
  },
  {
   "cell_type": "code",
   "execution_count": 9,
   "metadata": {},
   "outputs": [],
   "source": [
    "def plot_results(inner, outer):\n",
    "    \"\"\"Plot the inner and outer temperatures of the marshmallow\n",
    "    \n",
    "    inner: TimeSeries\n",
    "    outer: TimeSeries\n",
    "    \n",
    "    \"\"\"\n",
    "    plot(t_inner, '-', label='Inner Marshmallow Temp')\n",
    "    plot(t_outer, '-', label='Outer Marshmallow Temp')\n",
    "    \n",
    "    decorate(xlabel='Minutes',\n",
    "             ylabel='Temperature')"
   ]
  },
  {
   "cell_type": "code",
   "execution_count": null,
   "metadata": {},
   "outputs": [],
   "source": []
  },
  {
   "cell_type": "code",
   "execution_count": null,
   "metadata": {},
   "outputs": [],
   "source": []
  },
  {
   "cell_type": "code",
   "execution_count": null,
   "metadata": {},
   "outputs": [],
   "source": []
  },
  {
   "cell_type": "code",
   "execution_count": null,
   "metadata": {},
   "outputs": [],
   "source": []
  },
  {
   "cell_type": "code",
   "execution_count": null,
   "metadata": {},
   "outputs": [],
   "source": []
  }
 ],
 "metadata": {
  "kernelspec": {
   "display_name": "Python 3",
   "language": "python",
   "name": "python3"
  },
  "language_info": {
   "codemirror_mode": {
    "name": "ipython",
    "version": 3
   },
   "file_extension": ".py",
   "mimetype": "text/x-python",
   "name": "python",
   "nbconvert_exporter": "python",
   "pygments_lexer": "ipython3",
   "version": "3.6.6"
  }
 },
 "nbformat": 4,
 "nbformat_minor": 2
}
