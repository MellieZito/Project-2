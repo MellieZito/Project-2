{
 "cells": [
  {
   "cell_type": "code",
   "execution_count": null,
   "metadata": {},
   "outputs": [],
   "source": [
    "Marshmallows!!!!"
   ]
  },
  {
   "cell_type": "code",
   "execution_count": null,
   "metadata": {},
   "outputs": [],
   "source": [
    "def make_system(distance, t_end, dt):\n",
    "    \"\"\"Make a system object for the marshmallow model.\n",
    "    inner is inner temperature of marshmallow\n",
    "    outer is outer temperature of marshmallow\n",
    "    \n",
    "    distance is the distance from the fire\n",
    "    t_end is when the marshmallow is removed from the fire\n",
    "    dt is the time step for euler's method\n",
    "    )\n",
    "    \n",
    "    returns: System object\n",
    "    \"\"\"\n",
    "    #temperatures are 42 degrees farenheit - outside temp - in kelvin\n",
    "    init = State(inner=279, outer=279)\n",
    "    \n",
    "    t0 = 0\n",
    "    \n",
    "\n",
    "\n",
    "    return System(init=init, t0=0, t_end=t_end,\n",
    "                  d = distance, dt=dt)\n",
    "\n",
    "#state(outer, inner)\n",
    "#system(init, ts, parameters, dt)"
   ]
  },
  {
   "cell_type": "code",
   "execution_count": null,
   "metadata": {},
   "outputs": [],
   "source": [
    "def plot_results(inner, outer):\n",
    "    \"\"\"Plot the inner and outer temperatures of the marshmallow\n",
    "    \n",
    "    inner: TimeSeries\n",
    "    outer: TimeSeries\n",
    "    \n",
    "    \"\"\"\n",
    "    plot(inner, '-', label='Inner Marshmallow Temp')\n",
    "    plot(temp, '-', label='Outer Marshmallow Temp')\n",
    "    \n",
    "    decorate(xlabel='Minutes',\n",
    "             ylabel='Temperature')"
   ]
  },
  {
   "cell_type": "code",
   "execution_count": null,
   "metadata": {},
   "outputs": [],
   "source": [
    "def slope_func(state, t, system):\n",
    "    \"\"\"Makes the differential equations.\n",
    "    \n",
    "    state: State (inner, outer)\n",
    "    t: time\n",
    "    system: System object\n",
    "    \n",
    "    returns: didt, dodt\n",
    "    \"\"\"\n",
    "    unpack(system)\n",
    "    \n",
    "    inner, outer = state\n",
    "\n",
    "    #reference stuff below:\n",
    "    \n",
    "    #dr/dt = Γτ - μr - βrv\n",
    "    r_arise = Γ * τ \n",
    "    r_death = μ * r \n",
    "    r_infection = β * r * v\n",
    "    \n",
    "    \n",
    "    drdt = r_arise - r_death - r_infection\n",
    "    \n",
    "    \n",
    "    return drdt,"
   ]
  }
 ],
 "metadata": {
  "kernelspec": {
   "display_name": "Python 3",
   "language": "python",
   "name": "python3"
  },
  "language_info": {
   "codemirror_mode": {
    "name": "ipython",
    "version": 3
   },
   "file_extension": ".py",
   "mimetype": "text/x-python",
   "name": "python",
   "nbconvert_exporter": "python",
   "pygments_lexer": "ipython3",
   "version": "3.6.6"
  }
 },
 "nbformat": 4,
 "nbformat_minor": 2
}
