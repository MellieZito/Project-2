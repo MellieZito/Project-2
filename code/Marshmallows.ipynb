{
 "cells": [
  {
   "cell_type": "code",
   "execution_count": null,
   "metadata": {},
   "outputs": [],
   "source": [
    "Marshmallows!!!!"
   ]
  },
  {
   "cell_type": "markdown",
   "metadata": {},
   "source": [
    "Hey :)"
   ]
  },
  {
   "cell_type": "code",
   "execution_count": null,
   "metadata": {},
   "outputs": [],
   "source": [
    "def make_system(inner, outer, dt):\n",
    "    \"\"\"Make a system object for the SIR model.\n",
    "    R is lymphocytes\n",
    "    \n",
    "    \n",
    "    Γ is the rate at which new, uninfected lymphocytes (R) arise\n",
    "    )\n",
    "    \n",
    "    returns: System object\n",
    "    \"\"\"\n",
    "    init = State(R=200, ..)\n",
    "\n",
    "    t0 = 0\n",
    "    t_end = 120\n",
    "\n",
    "    return System(init=init, t0=t0, t_end=t_end,\n",
    "                  inner, outer, dt=dt)\n",
    "\n",
    "#state(outer, inner)"
   ]
  },
  {
   "cell_type": "code",
   "execution_count": null,
   "metadata": {},
   "outputs": [],
   "source": []
  },
  {
   "cell_type": "code",
   "execution_count": null,
   "metadata": {},
   "outputs": [],
   "source": []
  }
 ],
 "metadata": {
  "kernelspec": {
   "display_name": "Python 3",
   "language": "python",
   "name": "python3"
  },
  "language_info": {
   "codemirror_mode": {
    "name": "ipython",
    "version": 3
   },
   "file_extension": ".py",
   "mimetype": "text/x-python",
   "name": "python",
   "nbconvert_exporter": "python",
   "pygments_lexer": "ipython3",
   "version": "3.6.6"
  }
 },
 "nbformat": 4,
 "nbformat_minor": 2
}
